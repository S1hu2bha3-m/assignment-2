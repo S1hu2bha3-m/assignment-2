{
 "cells": [
  {
   "cell_type": "markdown",
   "id": "a3cdd4b5-569c-455e-8027-73363d3a6044",
   "metadata": {},
   "source": [
    "1. Write a program to accept percentage from the user and display the grade according to the following criteria:\n",
    "\n",
    "marks              grade\n",
    ">90                A\n",
    ">80 and <=90       B\n",
    ">=60 and <=80      C\n",
    "below 60           D"
   ]
  },
  {
   "cell_type": "code",
   "execution_count": 1,
   "id": "e6582820-c19d-40b4-a617-a7631e79447b",
   "metadata": {},
   "outputs": [
    {
     "name": "stdin",
     "output_type": "stream",
     "text": [
      "Enter your marks as a percentage:  80\n"
     ]
    },
    {
     "name": "stdout",
     "output_type": "stream",
     "text": [
      "Grade: C\n"
     ]
    }
   ],
   "source": [
    "marks = float(input(\"Enter your marks as a percentage: \"))\n",
    "\n",
    "if marks > 90:\n",
    "    print(\"Grade: A\")\n",
    "elif marks > 80 and marks <= 90:\n",
    "    print(\"Grade: B\")\n",
    "elif marks >= 60 and marks <= 80:\n",
    "    print(\"Grade: C\")\n",
    "elif marks < 60:\n",
    "    print(\"Grade: D\")\n",
    "\n"
   ]
  },
  {
   "cell_type": "markdown",
   "id": "630bd833-6428-4644-b42d-c45ec06198e9",
   "metadata": {},
   "source": [
    "2. Write a program to accept the cost price of a bike and display the road tax to be paid according to the following criteria:\n",
    "\n",
    "Tax          Cost Price(in Rs)\n",
    "15%            >100000\n",
    "10%            >50000 and <= 100000\n",
    "5%             <=50000"
   ]
  },
  {
   "cell_type": "code",
   "execution_count": 2,
   "id": "64429c93-b49f-4ba9-854d-2f4cfdc796e5",
   "metadata": {},
   "outputs": [
    {
     "name": "stdin",
     "output_type": "stream",
     "text": [
      "Enter the cost price of the bike in Rs:  50000\n"
     ]
    },
    {
     "name": "stdout",
     "output_type": "stream",
     "text": [
      "Road tax to be paid: 2500.0 Rs\n"
     ]
    }
   ],
   "source": [
    "cost_price = float(input(\"Enter the cost price of the bike in Rs: \"))\n",
    "\n",
    "if cost_price > 100000:\n",
    "    road_tax = cost_price * 0.15\n",
    "    print(\"Road tax to be paid:\", road_tax, \"Rs\")\n",
    "elif cost_price > 50000 and cost_price <= 100000:\n",
    "    road_tax = cost_price * 0.1\n",
    "    print(\"Road tax to be paid:\", road_tax, \"Rs\")\n",
    "elif cost_price <= 50000:\n",
    "    road_tax = cost_price * 0.05\n",
    "    print(\"Road tax to be paid:\", road_tax, \"Rs\")\n"
   ]
  },
  {
   "cell_type": "markdown",
   "id": "08182799-433a-4343-8041-f0760e9c1bca",
   "metadata": {},
   "source": [
    "3. Accept any city from the user and display monuments of that city.\n",
    "\n",
    "City            Monument\n",
    "Delhi           Red Fort  \n",
    "Agra            Taj Mahal\n",
    "Jaipur          Jal Mahal"
   ]
  },
  {
   "cell_type": "code",
   "execution_count": 3,
   "id": "ae257ba1-fc87-42e2-9f88-3010aa809d2f",
   "metadata": {},
   "outputs": [
    {
     "name": "stdin",
     "output_type": "stream",
     "text": [
      "Enter the name of the city:  Delhi\n"
     ]
    },
    {
     "name": "stdout",
     "output_type": "stream",
     "text": [
      "Monument: Red Fort\n"
     ]
    }
   ],
   "source": [
    "city = input(\"Enter the name of the city: \")\n",
    "\n",
    "if city == \"Delhi\":\n",
    "    print(\"Monument: Red Fort\")\n",
    "elif city == \"Agra\":\n",
    "    print(\"Monument: Taj Mahal\")\n",
    "elif city == \"Jaipur\":\n",
    "    print(\"Monument: Jal Mahal\")\n",
    "else:\n",
    "    print(\"Monument not found for the entered city\")\n"
   ]
  },
  {
   "cell_type": "markdown",
   "id": "4b2ebe41-4bbb-4af5-867c-209167bbb240",
   "metadata": {},
   "source": [
    "4. Check how many times a given number can be divided by 3 before it is less than or equal to 10"
   ]
  },
  {
   "cell_type": "code",
   "execution_count": 4,
   "id": "35d8cc11-5227-4b82-9b0f-a3dabcbe81d8",
   "metadata": {},
   "outputs": [
    {
     "name": "stdin",
     "output_type": "stream",
     "text": [
      "Enter a number:  4\n"
     ]
    },
    {
     "name": "stdout",
     "output_type": "stream",
     "text": [
      "The number can be divided by 3 0 times before it is less than or equal to 10\n"
     ]
    }
   ],
   "source": [
    "num = int(input(\"Enter a number: \"))\n",
    "count = 0\n",
    "\n",
    "while num > 10:\n",
    "    num = num / 3\n",
    "    count += 1\n",
    "\n",
    "print(\"The number can be divided by 3\", count, \"times before it is less than or equal to 10\")\n"
   ]
  },
  {
   "cell_type": "markdown",
   "id": "43fec481-283d-4344-b987-7cb2a2890cba",
   "metadata": {},
   "source": [
    "5. Why and when to use While Loop in Python give a detailed description with examples"
   ]
  },
  {
   "cell_type": "markdown",
   "id": "c5173526-f2c2-4215-a12e-1d6e72757db6",
   "metadata": {},
   "source": [
    "A while loop in Python is used to repeat a block of code as long as a certain condition is met. The basic syntax for a while loop is:\n",
    "\n",
    "while condition:\n",
    "    # code to be executed\n",
    "The code inside the loop will continue to execute as long as the condition is true. Once the condition becomes false, the loop will terminate and the program will continue with the next block of code.\n",
    "\n",
    "Here are a few examples to show when you might use a while loop:\n",
    "\n",
    "Looping until a user enters the correct input:"
   ]
  },
  {
   "cell_type": "code",
   "execution_count": 5,
   "id": "5fe823aa-c80c-46e3-a107-65ece185f40d",
   "metadata": {},
   "outputs": [
    {
     "name": "stdin",
     "output_type": "stream",
     "text": [
      "Enter a number:  6\n"
     ]
    }
   ],
   "source": [
    "while True:\n",
    "    user_input = input(\"Enter a number: \")\n",
    "    if user_input.isdigit():\n",
    "        break\n",
    "    else:\n",
    "        print(\"Invalid input, please try again.\")\n"
   ]
  },
  {
   "cell_type": "markdown",
   "id": "45497094-4490-4fec-98af-2ae645a47bf7",
   "metadata": {},
   "source": [
    "Looping through a list:"
   ]
  },
  {
   "cell_type": "code",
   "execution_count": 6,
   "id": "b0da0a56-efe3-4e09-aee5-e95aaeef806c",
   "metadata": {},
   "outputs": [
    {
     "name": "stdout",
     "output_type": "stream",
     "text": [
      "1\n",
      "2\n",
      "3\n",
      "4\n",
      "5\n"
     ]
    }
   ],
   "source": [
    "numbers = [1, 2, 3, 4, 5]\n",
    "index = 0\n",
    "while index < len(numbers):\n",
    "    print(numbers[index])\n",
    "    index += 1\n"
   ]
  },
  {
   "cell_type": "markdown",
   "id": "5c0c478f-7ae7-4532-89de-85bac5b49508",
   "metadata": {},
   "source": [
    "6. Use nested while loop to print 3 different pattern"
   ]
  },
  {
   "cell_type": "markdown",
   "id": "ce49f577-4083-4205-9e73-c508c84157d6",
   "metadata": {},
   "source": [
    "Here are three examples of different patterns that can be printed using nested while loops:\n",
    "\n",
    "(a). Right triangle pattern:"
   ]
  },
  {
   "cell_type": "code",
   "execution_count": 7,
   "id": "3bcf8bf9-9f51-44b5-b99d-2df2d650ffe8",
   "metadata": {},
   "outputs": [
    {
     "name": "stdin",
     "output_type": "stream",
     "text": [
      "Enter the number of rows:  5\n"
     ]
    },
    {
     "name": "stdout",
     "output_type": "stream",
     "text": [
      "*\n",
      "**\n",
      "***\n",
      "****\n",
      "*****\n"
     ]
    }
   ],
   "source": [
    "n = int(input(\"Enter the number of rows: \"))\n",
    "\n",
    "row = 1\n",
    "while row <= n:\n",
    "    col = 1\n",
    "    while col <= row:\n",
    "        print(\"*\", end=\"\")\n",
    "        col += 1\n",
    "    print()\n",
    "    row += 1\n"
   ]
  },
  {
   "cell_type": "markdown",
   "id": "0602b322-e2ab-4db3-bf3b-5e59d0d209d6",
   "metadata": {},
   "source": [
    "(b). Diamond pattern"
   ]
  },
  {
   "cell_type": "code",
   "execution_count": 8,
   "id": "9a7d0135-79fe-4b1c-b16c-ffd83f5bd189",
   "metadata": {},
   "outputs": [
    {
     "name": "stdin",
     "output_type": "stream",
     "text": [
      "Enter an odd number of rows:  5\n"
     ]
    },
    {
     "name": "stdout",
     "output_type": "stream",
     "text": [
      "  *\n",
      " ***\n",
      "*****\n",
      " ***\n",
      "  *\n"
     ]
    }
   ],
   "source": [
    "n = int(input(\"Enter an odd number of rows: \"))\n",
    "\n",
    "row = 1\n",
    "while row <= n:\n",
    "    col = 1\n",
    "    spaces = abs(n // 2 - row + 1)\n",
    "    while col <= spaces:\n",
    "        print(\" \", end=\"\")\n",
    "        col += 1\n",
    "    col = 1\n",
    "    while col <= n - 2 * spaces:\n",
    "        print(\"*\", end=\"\")\n",
    "        col += 1\n",
    "    print()\n",
    "    row += 1\n"
   ]
  },
  {
   "cell_type": "markdown",
   "id": "ffbfa4e1-5c48-4db1-8e34-cd8559948ead",
   "metadata": {},
   "source": [
    "(c). Pyramid pattern"
   ]
  },
  {
   "cell_type": "code",
   "execution_count": 9,
   "id": "f467cfaf-29aa-4caf-b36f-3344202643f4",
   "metadata": {},
   "outputs": [
    {
     "name": "stdin",
     "output_type": "stream",
     "text": [
      "Enter the number of rows:  5\n"
     ]
    },
    {
     "name": "stdout",
     "output_type": "stream",
     "text": [
      "    *\n",
      "   ***\n",
      "  *****\n",
      " *******\n",
      "*********\n"
     ]
    }
   ],
   "source": [
    "n = int(input(\"Enter the number of rows: \"))\n",
    "\n",
    "row = 1\n",
    "while row <= n:\n",
    "    col = 1\n",
    "    spaces = n - row\n",
    "    while col <= spaces:\n",
    "        print(\" \", end=\"\")\n",
    "        col += 1\n",
    "    col = 1\n",
    "    while col <= 2 * row - 1:\n",
    "        print(\"*\", end=\"\")\n",
    "        col += 1\n",
    "    print()\n",
    "    row += 1\n"
   ]
  },
  {
   "cell_type": "markdown",
   "id": "a939722a-24b9-4b81-9b71-a9ea5e33ff0f",
   "metadata": {},
   "source": [
    "7. Reverse a while loop to diplay numbers from 10 to 1"
   ]
  },
  {
   "cell_type": "markdown",
   "id": "5bc27e09-99d5-441c-8643-6b4ae4a8d3e4",
   "metadata": {},
   "source": [
    "Here is a sample Python code to display numbers from 10 to 1 using a while loop:"
   ]
  },
  {
   "cell_type": "code",
   "execution_count": 10,
   "id": "d71a4618-32f8-4a2c-b1fb-c379be006bb6",
   "metadata": {},
   "outputs": [
    {
     "name": "stdout",
     "output_type": "stream",
     "text": [
      "10\n",
      "9\n",
      "8\n",
      "7\n",
      "6\n",
      "5\n",
      "4\n",
      "3\n",
      "2\n",
      "1\n"
     ]
    }
   ],
   "source": [
    "num = 10\n",
    "while num >= 1:\n",
    "    print(num)\n",
    "    num -= 1\n"
   ]
  },
  {
   "cell_type": "code",
   "execution_count": null,
   "id": "fd2b91c2-50eb-4c60-81e6-e8cf5741477d",
   "metadata": {},
   "outputs": [],
   "source": []
  }
 ],
 "metadata": {
  "kernelspec": {
   "display_name": "Python 3 (ipykernel)",
   "language": "python",
   "name": "python3"
  },
  "language_info": {
   "codemirror_mode": {
    "name": "ipython",
    "version": 3
   },
   "file_extension": ".py",
   "mimetype": "text/x-python",
   "name": "python",
   "nbconvert_exporter": "python",
   "pygments_lexer": "ipython3",
   "version": "3.10.8"
  }
 },
 "nbformat": 4,
 "nbformat_minor": 5
}
